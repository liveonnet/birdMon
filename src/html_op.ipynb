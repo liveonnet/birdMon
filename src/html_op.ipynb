{
 "cells": [
  {
   "cell_type": "code",
   "execution_count": 3,
   "metadata": {},
   "outputs": [
    {
     "name": "stdout",
     "output_type": "stream",
     "text": [
      "0x1F, 0x8B ... , 0x0, 0x0\n",
      "6743\n",
      "\n"
     ]
    },
    {
     "data": {
      "text/plain": [
       "44781"
      ]
     },
     "execution_count": 3,
     "metadata": {},
     "output_type": "execute_result"
    }
   ],
   "source": [
    "# h to html\n",
    "import gzip\n",
    "from functools import partial\n",
    "f=open('D:/vsprj/birdMon/include/camera_index_ov2640.h').read()\n",
    "k = 'const uint8_t index_ov2640_html_gz[] = {'\n",
    "idx = f.find(k)\n",
    "assert idx != -1\n",
    "f = f[idx+len(k):-3]\n",
    "print(f'{f[:10]} ... {f[-10:]}')\n",
    "l_hex = f.replace(' ', '').replace('\\n', '').split(',')\n",
    "l_int = list(map(lambda x: partial(int, base=16)(x), l_hex))\n",
    "print(f'{len(l_int)}\\n')\n",
    "raw_data = gzip.decompress(bytes(l_int))\n",
    "open('d:/vsprj/birdMon/src/index_ov2640.html', 'w').write(raw_data.decode())"
   ]
  },
  {
   "cell_type": "code",
   "execution_count": 11,
   "metadata": {},
   "outputs": [
    {
     "name": "stdout",
     "output_type": "stream",
     "text": [
      "s len 6832  b'\\x1f\\x8b\\x08\\x00\\x96F\\x8cb\\x02\\xff'\n",
      "l_in_hex ['0x1F', '0x8B', '0x8', '0x0', '0x96', '0x46', '0x8C', '0x62', '0x2', '0xFF']\n",
      "l_s 40591 0x1F, 0x8B\n"
     ]
    }
   ],
   "source": [
    "# html to h\n",
    "import gzip\n",
    "from functools import partial\n",
    "f=open('D:/vsprj/birdMon/src/index_ov2640.html').read()\n",
    "s = gzip.compress(f.encode())\n",
    "print(f's len {len(s)}  {s[:10]}')\n",
    "l_in_hex = list(map(lambda x: format(x, '#X').replace('0X', '0x'), s))\n",
    "print(f'l_in_hex {l_in_hex[:10]}')\n",
    "l_s = ', '.join(l_in_hex)\n",
    "print(f'l_s {len(l_s)} {l_s[:10]}')\n",
    "with open('D:/vsprj/birdMon/include/camera_index_ov2640.h', 'w') as fo:\n",
    "    fo.write(f'#define index_ov2640_html_gz_len {len(s)}\\nconst uint8_t index_ov2640_html_gz[] = {{')\n",
    "    fo.write(l_s)\n",
    "    fo.write('};\\n')"
   ]
  }
 ],
 "metadata": {
  "interpreter": {
   "hash": "ba1139a1971b7db155de64b8ff02f1c096e4461113b73056d1610c8424c37221"
  },
  "kernelspec": {
   "display_name": "Python 3.8.10 64-bit",
   "language": "python",
   "name": "python3"
  },
  "language_info": {
   "codemirror_mode": {
    "name": "ipython",
    "version": 3
   },
   "file_extension": ".py",
   "mimetype": "text/x-python",
   "name": "python",
   "nbconvert_exporter": "python",
   "pygments_lexer": "ipython3",
   "version": "3.8.10"
  },
  "orig_nbformat": 4
 },
 "nbformat": 4,
 "nbformat_minor": 2
}
